{
 "cells": [
  {
   "cell_type": "markdown",
   "metadata": {},
   "source": [
    "# Simple Hello World"
   ]
  },
  {
   "cell_type": "markdown",
   "metadata": {},
   "source": [
    "## Programme **commentaire**"
   ]
  },
  {
   "cell_type": "code",
   "execution_count": 6,
   "metadata": {},
   "outputs": [
    {
     "name": "stdout",
     "output_type": "stream",
     "text": [
      "+----------+------+-----+-------+\n",
      "| Produit  | PU   | Qté | Prix  |\n"
     ]
    },
    {
     "name": "stdout",
     "output_type": "stream",
     "text": [
      "+----------+------+-----+-------+\n",
      "| Stylo    | 1,20 | 5   | 6,00  |\n",
      "| Cahier   | 3,50 | 2   | 7,00  |\n",
      "+----------+------+-----+-------+\n",
      "\n",
      "Entrez la quantité pour le Stylo : Entrez la quantité pour le Cahier : \n",
      "\n",
      "+----------+------+-----+-------+\n",
      "| Produit  | PU   | Qté | Prix  |\n",
      "+----------+------+-----+-------+\n",
      "| Stylo    | 1.20 |  10 | 12.00 |\n",
      "| Cahier   | 3.50 |  12 | 42.00 |\n",
      "+----------+------+-----+-------+\n",
      "| Prix moyen :  2.35            |\n",
      "+----------+------+-----+-------+\n"
     ]
    },
    {
     "data": {
      "text/plain": [
       "java.io.PrintStream@241a70f"
      ]
     },
     "execution_count": 6,
     "metadata": {},
     "output_type": "execute_result"
    }
   ],
   "source": [
    "import java.util.Scanner;\n",
    "\n",
    "Scanner clavier = new Scanner(System.in);\n",
    "\n",
    "System.out.println(\"+----------+------+-----+-------+\");\n",
    "System.out.println(\"| Produit  | PU   | Qté | Prix  |\");\n",
    "System.out.println(\"+----------+------+-----+-------+\");\n",
    "System.out.println(\"| Stylo    | 1,20 | 5   | 6,00  |\");\n",
    "System.out.println(\"| Cahier   | 3,50 | 2   | 7,00  |\");\n",
    "System.out.println(\"+----------+------+-----+-------+\");\n",
    "\n",
    "System.out.println(); // Ligne vide pour séparer les affichages\n",
    "\n",
    "System.out.print(\"Entrez la quantité pour le Stylo : \");\n",
    "int quantite1 = clavier.nextInt();\n",
    "System.out.print(\"Entrez la quantité pour le Cahier : \");\n",
    "int quantite2 = clavier.nextInt();\n",
    "String nomProduit1 = \"Stylo\";\n",
    "double prixUnitaire1 = 1.20;\n",
    "String nomProduit2 = \"Cahier\";\n",
    "double prixUnitaire2 = 3.50;\n",
    "\n",
    "double totalCahier = prixUnitaire2 * quantite2;\n",
    "double totalStylo = prixUnitaire1 * quantite1;\n",
    "double totalFinal = totalStylo + totalCahier;\n",
    "double moyenne = (prixUnitaire1 + prixUnitaire2) / 2.0;\n",
    "\n",
    "System.out.println();\n",
    "System.out.println();\n",
    "\n",
    "System.out.printf(\"+----------+------+-----+-------+%n\");\n",
    "System.out.printf(\"| Produit  | PU   | Qté | Prix  |%n\");\n",
    "System.out.printf(\"+----------+------+-----+-------+%n\");\n",
    "System.out.printf(\"| %-8s | %4.2f | %3d | %5.2f |%n\", nomProduit1, prixUnitaire1, quantite1, totalStylo);\n",
    "System.out.printf(\"| %-8s | %4.2f | %3d | %5.2f |%n\", nomProduit2, prixUnitaire2, quantite2, totalCahier);\n",
    "System.out.printf(\"+----------+------+-----+-------+%n\");\n",
    "System.out.printf(\"| Prix moyen : %5.2f            |%n\", moyenne);\n",
    "System.out.printf(\"+----------+------+-----+-------+%n\");\n"
   ]
  },
  {
   "cell_type": "markdown",
   "metadata": {},
   "source": [
    "Site pour les tableaux : https://docs.framasoft.org/fr/grav/markdown.html#tableaux"
   ]
  }
 ],
 "metadata": {
  "kernelspec": {
   "display_name": "Java (rjk 2.2.0)",
   "language": "java",
   "name": "rapaio-jupyter-kernel"
  },
  "language_info": {
   "codemirror_mode": "java",
   "file_extension": ".jshell",
   "mimetype": "text/x-java-source",
   "name": "java",
   "nbconvert_exporter": "script",
   "pygments_lexer": "java",
   "version": "21.0.5+11-LTS"
  }
 },
 "nbformat": 4,
 "nbformat_minor": 2
}
